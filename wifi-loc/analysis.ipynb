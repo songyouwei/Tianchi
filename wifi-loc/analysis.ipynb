{
 "cells": [
  {
   "cell_type": "code",
   "execution_count": 25,
   "metadata": {},
   "outputs": [
    {
     "name": "stdout",
     "output_type": "stream",
     "text": [
      "<class 'pandas.core.frame.DataFrame'>\n",
      "Int64Index: 1138015 entries, 0 to 451607\n",
      "Data columns (total 8 columns):\n",
      "latitude      1138015 non-null float64\n",
      "longitude     1138015 non-null float64\n",
      "mall_id       1138015 non-null object\n",
      "row_id        451608 non-null float64\n",
      "shop_id       686407 non-null object\n",
      "time_stamp    1138015 non-null object\n",
      "user_id       1138015 non-null object\n",
      "wifi_infos    1138015 non-null object\n",
      "dtypes: float64(3), object(5)\n",
      "memory usage: 78.1+ MB\n"
     ]
    }
   ],
   "source": [
    "# -*- coding: utf-8 -*-\n",
    "\n",
    "import pandas as pd\n",
    "import numpy as np\n",
    "from sklearn import preprocessing\n",
    "import xgboost as xgb\n",
    "import lightgbm as lgb\n",
    "import datetime\n",
    "import matplotlib.pyplot as plt\n",
    "%matplotlib inline\n",
    "\n",
    "def normalize_map(data):\n",
    "    for x in data.columns:\n",
    "        if x not in ['row_id', 'user_id', 'label', 'shop_id', \n",
    "                     'time_stamp', 'mall_id', 'wifi_infos',\n",
    "                     'longitude', 'latitude', 'weekend', 'night']:\n",
    "            col_max = data[x].max()\n",
    "            col_min = data[x].min()\n",
    "            if col_max == col_min:\n",
    "                data[x] = -data[x]\n",
    "            else:\n",
    "                data[x] = \\\n",
    "                (data[x] - col_min) / (col_max - col_min) * 100\n",
    "            data[x] = data[x].fillna(0)\n",
    "    print \"Finish normalization!\"\n",
    "    \n",
    "def add_wk_feature(data):\n",
    "    combine['time_stamp'] = pd.to_datetime(combine['time_stamp'])\n",
    "    combine['weekend'] = 0 # 工作日\n",
    "    combine.loc[combine['time_stamp'].dt.dayofweek > 4, 'weekend'] = 1 # 周末    \n",
    "\n",
    "def add_night_feature(data):\n",
    "    combine['night'] = 0 # 白天\n",
    "    combine.loc[combine['time_stamp'].dt.hour >= 19, 'night'] = 1 # 晚上\n",
    "\n",
    "# main\n",
    "path = './'\n",
    "train = pd.read_csv(path + 'train.csv')\n",
    "train.head(5)\n",
    "test = pd.read_csv(path + 'X.csv')\n",
    "test.head(5)\n",
    "combine = pd.concat([train, test])\n",
    "combine.info()\n",
    "# weekend feature\n",
    "# add_wk_feature(combine)\n",
    "# night or not\n",
    "# add_night_feature(combine)"
   ]
  },
  {
   "cell_type": "code",
   "execution_count": 26,
   "metadata": {
    "collapsed": true
   },
   "outputs": [],
   "source": [
    "combine['time_stamp'] = pd.to_datetime(combine['time_stamp'])\n",
    "combine['hour'] = combine['time_stamp'].dt.hour"
   ]
  },
  {
   "cell_type": "code",
   "execution_count": 31,
   "metadata": {},
   "outputs": [
    {
     "name": "stdout",
     "output_type": "stream",
     "text": [
      "(1138015, 10)\n"
     ]
    },
    {
     "data": {
      "image/png": "[encoded data removed]",
      "text/plain": [
       "<matplotlib.figure.Figure at 0x7f42e8de4d50>"
      ]
     },
     "metadata": {},
     "output_type": "display_data"
    }
   ],
   "source": [
    "print combine.shape\n",
    "combine['hour'].value_counts().plot.bar()\n",
    "plt.xlabel('time_stamp (hour of the day)')\n",
    "plt.ylabel('value_counts')\n",
    "plt.title('The histogram for hour of the day.')\n",
    "plt.savefig('hour.png')"
   ]
  },
  {
   "cell_type": "code",
   "execution_count": 30,
   "metadata": {},
   "outputs": [
    {
     "data": {
      "image/png": "[encoded data removed]",
      "text/plain": [
       "<matplotlib.figure.Figure at 0x7f42e8e538d0>"
      ]
     },
     "metadata": {},
     "output_type": "display_data"
    }
   ],
   "source": [
    "combine['weekday'] = combine['time_stamp'].dt.dayofweek\n",
    "combine['weekday'].value_counts().plot.bar()\n",
    "plt.xlabel('time_stamp (day of the week)')\n",
    "plt.ylabel('value_counts')\n",
    "plt.title('The histogram for day of the week.')\n",
    "plt.savefig('week.png')"
   ]
  },
  {
   "cell_type": "code",
   "execution_count": 5,
   "metadata": {},
   "outputs": [
    {
     "name": "stdout",
     "output_type": "stream",
     "text": [
      "0   2017-08-06 21:20:00\n",
      "1   2017-08-06 21:20:00\n",
      "2   2017-08-02 13:10:00\n",
      "3   2017-08-13 12:30:00\n",
      "4   2017-08-11 14:20:00\n",
      "5   2017-08-06 14:50:00\n",
      "6   2017-08-02 17:30:00\n",
      "7   2017-08-02 18:30:00\n",
      "8   2017-08-15 09:40:00\n",
      "9   2017-08-13 11:20:00\n",
      "Name: time_stamp, dtype: datetime64[ns]\n",
      "0    0\n",
      "1    0\n",
      "2    0\n",
      "3    1\n",
      "4    0\n",
      "5    0\n",
      "6    0\n",
      "7    1\n",
      "8    0\n",
      "9    0\n",
      "Name: night, dtype: int64\n"
     ]
    }
   ],
   "source": [
    "combine['night'] = 0 # 白天\n",
    "combine.loc[combine['time_stamp'].dt.hour == 12, 'night'] = 1 # 晚上\n",
    "combine.loc[combine['time_stamp'].dt.hour == 20, 'night'] = 1 # 晚上\n",
    "combine.loc[combine['time_stamp'].dt.hour == 18, 'night'] = 1 # 晚上\n",
    "combine.loc[combine['time_stamp'].dt.hour == 19, 'night'] = 1 # 晚上\n",
    "print combine['time_stamp'].head(10)\n",
    "print combine['night'].head(10)"
   ]
  },
  {
   "cell_type": "code",
   "execution_count": null,
   "metadata": {
    "collapsed": true
   },
   "outputs": [],
   "source": []
  }
 ],
 "metadata": {
  "kernelspec": {
   "display_name": "Python 2",
   "language": "python",
   "name": "python2"
  },
  "language_info": {
   "codemirror_mode": {
    "name": "ipython",
    "version": 2
   },
   "file_extension": ".py",
   "mimetype": "text/x-python",
   "name": "python",
   "nbconvert_exporter": "python",
   "pygments_lexer": "ipython2",
   "version": "2.7.14"
  }
 },
 "nbformat": 4,
 "nbformat_minor": 2
}
